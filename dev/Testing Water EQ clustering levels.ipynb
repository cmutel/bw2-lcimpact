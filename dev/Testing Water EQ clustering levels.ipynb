{
 "cells": [
  {
   "cell_type": "code",
   "execution_count": 1,
   "metadata": {
    "collapsed": true
   },
   "outputs": [],
   "source": [
    "%matplotlib inline"
   ]
  },
  {
   "cell_type": "code",
   "execution_count": 14,
   "metadata": {
    "collapsed": false
   },
   "outputs": [],
   "source": [
    "import fiona\n",
    "import rasterio\n",
    "import seaborn as sns\n",
    "import numpy as np\n",
    "import pandas as pd\n",
    "from scipy.stats import kendalltau"
   ]
  },
  {
   "cell_type": "markdown",
   "metadata": {},
   "source": [
    "(pandarus) cmutel🚲  bw2-lcimpact ➔ ls\n",
    "CHANGES.md\t\t\tkmeans.6.gpkg\n",
    "LICENSE.txt\t\t\tkmeans.7.gpkg\n",
    "MANIFEST.in\t\t\tkmeans.8.gpkg\n",
    "README.rst\t\t\trequirements.txt\n",
    "Untitled-Copy1.ipynb\t\tsetup.py\n",
    "Untitled-Copy2.ipynb\t\twater_eq_core.10.tif\n",
    "Untitled-Copy3.ipynb\t\twater_eq_core.20.tif\n",
    "Untitled-Copy4.ipynb\t\twater_eq_core.5.tif\n",
    "Untitled-Copy5.ipynb\t\twater_eq_core.6.tif\n",
    "Untitled.ipynb\t\t\twater_eq_core.7.tif\n",
    "Untitled1.ipynb\t\t\twater_eq_core.8.tif\n",
    "bw2_lcimpact\t\t\twater_eq_core.9.tif\n",
    "dev\t\t\t\twater_eq_core.discretized.tif\n",
    "kmeans.10.gpkg\t\t\twater_eq_core.muchreduced.tif\n",
    "kmeans.10.gpkg-shm\t\twater_eq_core.reduced.tif\n",
    "kmeans.10.gpkg-wal\t\twater_eq_core.tif\n",
    "kmeans.5.gpkg"
   ]
  },
  {
   "cell_type": "code",
   "execution_count": 3,
   "metadata": {
    "collapsed": true
   },
   "outputs": [],
   "source": [
    "indices = (5, 6, 7, 8, 10)"
   ]
  },
  {
   "cell_type": "code",
   "execution_count": 4,
   "metadata": {
    "collapsed": true
   },
   "outputs": [],
   "source": [
    "source = ('/Users/cmutel/Box Sync/LC-Impact (Chris Mutel)/12-water consumption/spatial layers EQ'\n",
    "          '/shapefiles/CF_CORE_plants_noVS_and_animals_inclVS_noCpA_Option3_SW_PDF_perm3.tif')\n",
    "\n",
    "with rasterio.open(source) as src:\n",
    "    source_array = src.read(1)"
   ]
  },
  {
   "cell_type": "code",
   "execution_count": 8,
   "metadata": {
    "collapsed": false
   },
   "outputs": [
    {
     "name": "stdout",
     "output_type": "stream",
     "text": [
      "5 14787\n",
      "6 19533\n",
      "7 19224\n",
      "8 14302\n",
      "10 31537\n"
     ]
    }
   ],
   "source": [
    "def feature_count(index):\n",
    "    fp = \"kmeans.{}.gpkg\".format(index)\n",
    "    with fiona.open(fp) as src:\n",
    "        l = len(src)\n",
    "    return l\n",
    "        \n",
    "for index in indices:\n",
    "    print(index, feature_count(index))"
   ]
  },
  {
   "cell_type": "code",
   "execution_count": 32,
   "metadata": {
    "collapsed": true
   },
   "outputs": [],
   "source": [
    "with rasterio.open(\"water_eq_core.10.tif\") as src:\n",
    "    array = src.read(1, masked=True)\n",
    "\n",
    "mask = ~array.mask | (array.data > 0)"
   ]
  },
  {
   "cell_type": "code",
   "execution_count": 33,
   "metadata": {
    "collapsed": false
   },
   "outputs": [
    {
     "data": {
      "text/plain": [
       "((6021720,), (2786, 7200), (6021720,), (2786, 7200))"
      ]
     },
     "execution_count": 33,
     "metadata": {},
     "output_type": "execute_result"
    }
   ],
   "source": [
    "array[mask].shape, array.shape, source_array[mask].shape, source_array.shape"
   ]
  },
  {
   "cell_type": "code",
   "execution_count": 34,
   "metadata": {
    "collapsed": false
   },
   "outputs": [
    {
     "data": {
      "text/plain": [
       "(array([5675026,       0,       0,       0,       0,       0,       0,\n",
       "              0,       0,  346694]),\n",
       " array([  6.77245921e-17,   5.51165340e-13,   1.10226296e-12,\n",
       "          1.65336057e-12,   2.20445819e-12,   2.75555580e-12,\n",
       "          3.30665342e-12,   3.85775103e-12,   4.40884865e-12,\n",
       "          4.95994626e-12,   5.51104388e-12]))"
      ]
     },
     "execution_count": 34,
     "metadata": {},
     "output_type": "execute_result"
    }
   ],
   "source": [
    "np.histogram(array[mask])"
   ]
  },
  {
   "cell_type": "code",
   "execution_count": 37,
   "metadata": {
    "collapsed": false
   },
   "outputs": [
    {
     "data": {
      "text/plain": [
       "(10,)"
      ]
     },
     "execution_count": 37,
     "metadata": {},
     "output_type": "execute_result"
    }
   ],
   "source": [
    "np.unique(array[mask]).shape"
   ]
  },
  {
   "cell_type": "code",
   "execution_count": 21,
   "metadata": {
    "collapsed": false
   },
   "outputs": [],
   "source": [
    "def plot_index(index):\n",
    "    with rasterio.open(\"water_eq_core.{}.tif\".format(index)) as src:\n",
    "        array = src.read(1, masked=True)\n",
    "        \n",
    "    mask = ~array.mask | (array.data != 0)\n",
    "    \n",
    "    df = pd.DataFrame({\n",
    "        'original': source_array[mask],\n",
    "        'clustered': array.data[mask]\n",
    "    })\n",
    "    sns.jointplot('original', 'clustered', data=df, size=8, kind='scatter')"
   ]
  },
  {
   "cell_type": "code",
   "execution_count": 43,
   "metadata": {
    "collapsed": false,
    "deletable": true,
    "editable": true
   },
   "outputs": [],
   "source": [
    "def plot_index2(index):\n",
    "    with rasterio.open(\"water_eq_core.{}.tif\".format(index)) as src:\n",
    "        array = src.read(1, masked=True)\n",
    "        \n",
    "    mask = ~array.mask | (array.data > 0)\n",
    "    \n",
    "    df = pd.DataFrame({\n",
    "        'original': np.log(source_array[mask].astype(np.float64)),\n",
    "        'clustered': np.log(array.data[mask].astype(np.float64))\n",
    "    })\n",
    "    \n",
    "    sns.jointplot('original', 'clustered', data=df, size=8, kind='hex')"
   ]
  },
  {
   "cell_type": "code",
   "execution_count": 44,
   "metadata": {
    "collapsed": false
   },
   "outputs": [
    {
     "data": {
      "image/png": "[encoded data removed]",
      "text/plain": [
       "<matplotlib.figure.Figure at 0x12f3e1da0>"
      ]
     },
     "metadata": {},
     "output_type": "display_data"
    }
   ],
   "source": [
    "plot_index2(10)"
   ]
  },
  {
   "cell_type": "code",
   "execution_count": 50,
   "metadata": {
    "collapsed": true
   },
   "outputs": [],
   "source": [
    "error = np.abs(array[mask] - source_array[mask]) / source_array[mask]"
   ]
  },
  {
   "cell_type": "code",
   "execution_count": 51,
   "metadata": {
    "collapsed": false
   },
   "outputs": [
    {
     "name": "stdout",
     "output_type": "stream",
     "text": [
      "4250 (6021720,)\n"
     ]
    }
   ],
   "source": [
    "error_mask = error < 10\n",
    "print((~error_mask).sum(), error.shape)"
   ]
  },
  {
   "cell_type": "code",
   "execution_count": 52,
   "metadata": {
    "collapsed": false
   },
   "outputs": [
    {
     "data": {
      "text/plain": [
       "<matplotlib.axes._subplots.AxesSubplot at 0x12eeeeac8>"
      ]
     },
     "execution_count": 52,
     "metadata": {},
     "output_type": "execute_result"
    },
    {
     "data": {
      "image/png": "[encoded data removed]",
      "text/plain": [
       "<matplotlib.figure.Figure at 0x12f3ed6d8>"
      ]
     },
     "metadata": {},
     "output_type": "display_data"
    }
   ],
   "source": [
    "sns.distplot(error[error_mask])"
   ]
  },
  {
   "cell_type": "code",
   "execution_count": null,
   "metadata": {
    "collapsed": true
   },
   "outputs": [],
   "source": []
  }
 ],
 "metadata": {
  "kernelspec": {
   "display_name": "Python 3",
   "language": "python",
   "name": "python3"
  },
  "language_info": {
   "codemirror_mode": {
    "name": "ipython",
    "version": 3
   },
   "file_extension": ".py",
   "mimetype": "text/x-python",
   "name": "python",
   "nbconvert_exporter": "python",
   "pygments_lexer": "ipython3",
   "version": "3.5.3"
  }
 },
 "nbformat": 4,
 "nbformat_minor": 2
}
