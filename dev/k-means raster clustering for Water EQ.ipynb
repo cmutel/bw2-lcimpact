{
 "cells": [
  {
   "cell_type": "code",
   "execution_count": 1,
   "metadata": {
    "collapsed": true,
    "deletable": true,
    "editable": true
   },
   "outputs": [],
   "source": [
    "fp = ('/Users/cmutel/Box Sync/LC-Impact (Chris Mutel)/12-water consumption/spatial layers EQ'\n",
    "      '/shapefiles/CF_CORE_plants_noVS_and_animals_inclVS_noCpA_Option3_SW_PDF_perm3.tif')\n",
    "\n",
    "fp = ('/Users/cmutel/Box Sync/LC-Impact (Chris Mutel)/12-water consumption/spatial layers EQ'\n",
    "      '/shapefiles/CF_waterConsumption_extended_plants_NoVS_animalsInclVS_noCPA_Option3_PDF_perm3.tif')"
   ]
  },
  {
   "cell_type": "code",
   "execution_count": 2,
   "metadata": {
    "collapsed": false,
    "deletable": true,
    "editable": true
   },
   "outputs": [],
   "source": [
    "%matplotlib inline"
   ]
  },
  {
   "cell_type": "code",
   "execution_count": 8,
   "metadata": {
    "collapsed": true,
    "deletable": true,
    "editable": true
   },
   "outputs": [],
   "source": [
    "import rasterio\n",
    "from scipy.cluster.vq import kmeans, vq\n",
    "import numpy as np\n",
    "import matplotlib.pyplot as plt\n",
    "from pandarus import convert_to_vector"
   ]
  },
  {
   "cell_type": "code",
   "execution_count": 4,
   "metadata": {
    "collapsed": false,
    "deletable": true,
    "editable": true
   },
   "outputs": [],
   "source": [
    "with rasterio.open(fp) as f:\n",
    "    profile = f.profile\n",
    "    array = f.read(1, masked=True)"
   ]
  },
  {
   "cell_type": "code",
   "execution_count": 5,
   "metadata": {
    "collapsed": true,
    "deletable": true,
    "editable": true
   },
   "outputs": [],
   "source": [
    "profile.update(\n",
    "    driver='GTiff',\n",
    "    count=1,\n",
    "    compress='lzw',\n",
    "    nodata=-1,\n",
    "    dtype=np.float32,\n",
    "    tiled=False,\n",
    ")\n",
    "profile.pop('blockysize', None)\n",
    "profile.pop('blockxsize', None)\n",
    "\n",
    "array[array < 0] = -1\n",
    "array = array.astype(np.float32)"
   ]
  },
  {
   "cell_type": "code",
   "execution_count": 7,
   "metadata": {
    "collapsed": false,
    "deletable": true,
    "editable": true
   },
   "outputs": [
    {
     "name": "stderr",
     "output_type": "stream",
     "text": [
      "/Users/cmutel/miniconda3/envs/pandarus/lib/python3.5/site-packages/ipykernel/__main__.py:2: RuntimeWarning: invalid value encountered in log\n",
      "  from ipykernel import kernelapp as app\n"
     ]
    },
    {
     "name": "stdout",
     "output_type": "stream",
     "text": [
      "Calculate k-means with  10  cluster.\n"
     ]
    },
    {
     "name": "stderr",
     "output_type": "stream",
     "text": [
      "/Users/cmutel/.local/lib/python3.5/site-packages/rasterio/__init__.py:160: FutureWarning: GDAL-style transforms are deprecated and will not be supported in Rasterio 1.0.\n",
      "  transform = guard_transform(transform)\n"
     ]
    }
   ],
   "source": [
    "raw_flat = array.data.flatten()\n",
    "flat = np.log(raw_flat)\n",
    "mask = np.isnan(flat)\n",
    "flat = flat[~mask]\n",
    "\n",
    "def backwards(vector):\n",
    "    a = raw_flat.copy()\n",
    "    a[~mask] = vector\n",
    "    return a.reshape(*array.shape)\n",
    "\n",
    "# In remaining subplots add k-means classified images\n",
    "for i in (10,): # range(5, 15):\n",
    "    print(\"Calculate k-means with \", i, \" cluster.\")\n",
    "    \n",
    "    centroids, variance = kmeans(flat, i)\n",
    "    code, distance = vq(flat, centroids)    \n",
    "    codeim = backwards(code)\n",
    "\n",
    "    for value in np.unique(codeim):\n",
    "        array[codeim == value] = np.median(array[codeim == value])\n",
    "    \n",
    "    with rasterio.Env():\n",
    "        with rasterio.open('water_eq_extended.{}.tif'.format(i), 'w', **profile) as dst:\n",
    "            dst.write(array.data, 1)"
   ]
  },
  {
   "cell_type": "code",
   "execution_count": 9,
   "metadata": {
    "collapsed": false
   },
   "outputs": [
    {
     "name": "stderr",
     "output_type": "stream",
     "text": [
      "/Users/cmutel/.local/lib/python3.5/site-packages/rasterio/rio/helpers.py:55: FutureWarning: The value of this property will change in version 1.0. Please see https://github.com/mapbox/rasterio/issues/86 for details.\n",
      "  features = list(collection())\n",
      "/Users/cmutel/.local/lib/python3.5/site-packages/rasterio/features.py:102: FutureWarning: GDAL-style transforms are deprecated and will not be supported in Rasterio 1.0.\n",
      "  transform = guard_transform(transform)\n"
     ]
    },
    {
     "data": {
      "text/plain": [
       "'/Users/cmutel/Library/Application Support/pandarus/raster-conversion/e4630c5b46f9061f20e47d5cf49bde7ef8a58ebddf344e9aa132f8dd9fce18f3.1.geojson'"
      ]
     },
     "execution_count": 9,
     "metadata": {},
     "output_type": "execute_result"
    }
   ],
   "source": [
    "convert_to_vector(\"water_eq_extended.10.tif\")"
   ]
  },
  {
   "cell_type": "code",
   "execution_count": null,
   "metadata": {
    "collapsed": true
   },
   "outputs": [],
   "source": []
  }
 ],
 "metadata": {
  "kernelspec": {
   "display_name": "Python 3",
   "language": "python",
   "name": "python3"
  },
  "language_info": {
   "codemirror_mode": {
    "name": "ipython",
    "version": 3
   },
   "file_extension": ".py",
   "mimetype": "text/x-python",
   "name": "python",
   "nbconvert_exporter": "python",
   "pygments_lexer": "ipython3",
   "version": "3.5.3"
  }
 },
 "nbformat": 4,
 "nbformat_minor": 2
}
